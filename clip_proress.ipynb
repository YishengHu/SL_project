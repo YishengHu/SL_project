{
 "cells": [
  {
   "cell_type": "code",
   "execution_count": 16,
   "id": "85a7a630",
   "metadata": {},
   "outputs": [],
   "source": [
    "import torchaudio\n",
    "import torch\n",
    "import soundfile\n",
    "import numpy as np\n",
    "import pandas as pd\n",
    "import matplotlib.pyplot as plt\n",
    "import librosa\n",
    "import python_speech_features\n",
    "from sklearn.preprocessing import StandardScaler\n",
    "import os\n",
    "from plot import *"
   ]
  },
  {
   "cell_type": "code",
   "execution_count": 18,
   "id": "66a1edc1",
   "metadata": {
    "scrolled": true
   },
   "outputs": [
    {
     "name": "stderr",
     "output_type": "stream",
     "text": [
      "<ipython-input-18-0baf16026ced>:16: VisibleDeprecationWarning: Creating an ndarray from ragged nested sequences (which is a list-or-tuple of lists-or-tuples-or ndarrays with different lengths or shapes) is deprecated. If you meant to do this, you must specify 'dtype=object' when creating the ndarray.\n",
      "  data=np.array(data)\n"
     ]
    },
    {
     "data": {
      "text/plain": [
       "(5780, 5)"
      ]
     },
     "execution_count": 18,
     "metadata": {},
     "output_type": "execute_result"
    }
   ],
   "source": [
    "dirlist=os.listdir(\"UCLASS Annotations/\")\n",
    "dirlist=[i[:-4] for i in dirlist]\n",
    "data=[]\n",
    "for name in dirlist:\n",
    "  #  print(name)\n",
    "    yw,sr=librosa.load(\"AllAudioWav/\"+name+\".wav\")\n",
    "    yw.shape,sr\n",
    "    df_raw = pd.read_csv(\"UCLASS Annotations/\"+name+\".csv\",header=None,encoding='GBK')\n",
    "    df_raw=np.array(df_raw)\n",
    "    index=0\n",
    "    for row in df_raw:\n",
    "        data_split=yw[int(row[2]*sr):int(row[3]*sr)]\n",
    "        data.append([data_split,df_raw[index],name,index,sr])\n",
    "        soundfile.write('slice/'+name+'_slice_'+str(index)+'.wav', data_split, sr)\n",
    "        index+=1\n",
    "data=np.array(data)\n",
    "\n",
    "np.save('data.npy',data)\n",
    "data.shape"
   ]
  },
  {
   "cell_type": "code",
   "execution_count": null,
   "id": "69c46a6c",
   "metadata": {},
   "outputs": [],
   "source": []
  }
 ],
 "metadata": {
  "kernelspec": {
   "display_name": "Python 3",
   "language": "python",
   "name": "python3"
  },
  "language_info": {
   "codemirror_mode": {
    "name": "ipython",
    "version": 3
   },
   "file_extension": ".py",
   "mimetype": "text/x-python",
   "name": "python",
   "nbconvert_exporter": "python",
   "pygments_lexer": "ipython3",
   "version": "3.8.8"
  }
 },
 "nbformat": 4,
 "nbformat_minor": 5
}
